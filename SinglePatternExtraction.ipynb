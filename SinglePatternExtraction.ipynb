{
 "metadata": {
  "name": "",
  "signature": "sha256:96298dbbc04ef851538a53d338bae8983bbcabfc78509c9ddb33fe2bb5064b37"
 },
 "nbformat": 3,
 "nbformat_minor": 0,
 "worksheets": [
  {
   "cells": [
    {
     "cell_type": "code",
     "collapsed": false,
     "input": [
      "%pylab inline"
     ],
     "language": "python",
     "metadata": {},
     "outputs": [
      {
       "output_type": "stream",
       "stream": "stdout",
       "text": [
        "Populating the interactive namespace from numpy and matplotlib\n"
       ]
      }
     ],
     "prompt_number": 2
    },
    {
     "cell_type": "code",
     "collapsed": false,
     "input": [
      "import h5py\n",
      "import spimage"
     ],
     "language": "python",
     "metadata": {},
     "outputs": [],
     "prompt_number": 3
    },
    {
     "cell_type": "code",
     "collapsed": false,
     "input": [
      "PIXEL_IS_PERFECT = 0\n",
      "PIXEL_IS_INVALID = 1\n",
      "PIXEL_IS_SATURATED = 2\n",
      "PIXEL_IS_HOT = 4\n",
      "PIXEL_IS_DEAD = 8\n",
      "PIXEL_IS_SHADOWED = 16\n",
      "PIXEL_IS_IN_PEAKMASK = 32\n",
      "PIXEL_IS_TO_BE_IGNORED = 64\n",
      "PIXEL_IS_BAD = 128\n",
      "PIXEL_IS_OUT_OF_RESOLUTION_LIMITS = 256\n",
      "PIXEL_IS_MISSING = 512\n",
      "PIXEL_IS_NOISY = 1024\n",
      "PIXEL_IS_ARTIFACT_CORRECTED = 2048\n",
      "PIXEL_FAILED_ARTIFACT_CORRECTION = 4096\n",
      "PIXEL_IS_PEAK_FOR_HITFINDER = 8192\n",
      "PIXEL_IS_PHOTON_BACKGROUND_CORRECTED = 16384\n",
      "PIXEL_MASK_OUT = PIXEL_IS_INVALID | PIXEL_IS_SATURATED | PIXEL_IS_HOT | PIXEL_IS_DEAD | PIXEL_IS_SHADOWED |  PIXEL_IS_TO_BE_IGNORED | PIXEL_IS_BAD | PIXEL_IS_MISSING | PIXEL_FAILED_ARTIFACT_CORRECTION "
     ],
     "language": "python",
     "metadata": {},
     "outputs": [],
     "prompt_number": 4
    },
    {
     "cell_type": "code",
     "collapsed": false,
     "input": [
      "def fill_centrosymmetric(img,msk,fill_pix,cx,cy):\n",
      "    img_new = img.copy()\n",
      "    msk_new = msk.copy()\n",
      "    X,Y = numpy.meshgrid(numpy.arange(img.shape[1]),numpy.arange(img.shape[0]))\n",
      "    X = X[fill_pix]\n",
      "    Y = Y[fill_pix]\n",
      "    for x,y in zip(X,Y):\n",
      "#        cx_pos = (img.shape[1]-1)/2.\n",
      " #       cy_pos = (img.shape[0]-1)/2.\n",
      "        cx_pos = (img.shape[1]-1)/2. + cx\n",
      "        cy_pos = (img.shape[0]-1)/2. + cy\n",
      "        x2 = int(round(2*cx_pos - x))\n",
      "        y2 = int(round(2*cy_pos - y))\n",
      "        if x2 >= img.shape[1] or y2 >= img.shape[0] or x2 < 0 or y2 < 0:\n",
      "            pass\n",
      "        else:\n",
      "            img_new[y,x] = img[y2,x2]\n",
      "            msk_new[y,x] = msk[y2,x2]\n",
      "    return img_new,msk_new"
     ],
     "language": "python",
     "metadata": {},
     "outputs": [],
     "prompt_number": 5
    },
    {
     "cell_type": "code",
     "collapsed": false,
     "input": [
      "filename = \"/Users/hgsur-a/research/CXDI/LCLS/AMO_July2014/r0181_20150210_1158/amoc6914-r0181.cxi\"\n",
      "#filename = \"/Users/hgsur-a/mnt/test_r0179_20150210_043639/amoc6914-r0179.cxi\"\n",
      "#filename = \"/Users/hgsur-a/mnt/r0179_20150210_1158/amoc6914-r0179.cxi\"\n",
      "#filename = \"/Users/hgsur-a/mnt/r0180_20150210_1158/amoc6914-r0180.cxi\"\n",
      "#filename = \"/Users/hgsur-a/mnt/r0181_20150210_1158/amoc6914-r0181.cxi\""
     ],
     "language": "python",
     "metadata": {},
     "outputs": [],
     "prompt_number": 6
    },
    {
     "cell_type": "code",
     "collapsed": false,
     "input": [
      "#print filename"
     ],
     "language": "python",
     "metadata": {},
     "outputs": [],
     "prompt_number": 7
    },
    {
     "cell_type": "code",
     "collapsed": false,
     "input": [
      "with h5py.File(filename,\"r\") as f:\n",
      "    tags = array(f[\"/entry_1/image_2/tags\"])\n",
      "#    tags_names = f[\"/entry_1/image_2/tags\"].attrs[\"headings\"]\n",
      "    Is = []\n",
      "    Ms = []\n",
      "    Cxs = []\n",
      "    Cys = []\n",
      "    print tags.shape\n",
      "    i_interesting = arange(tags.shape[1])[tags[0,:] == 1]\n",
      "    print i_interesting\n",
      "    for i in range(20):\n",
      "#    for i in range(len(i_interesting)):\n",
      "        k = i_interesting[i]\n",
      "        # Intensities\n",
      "        I = f[\"/entry_1/image_2/data\"][k,:,:]\n",
      "        Is.append(I)\n",
      "        imsave(\"%i.png\",log10(I))\n",
      "        # Masks\n",
      "        temp = ( array(f[\"/entry_1/image_2/mask\"][k,:,:],dtype=\"uint16\") & PIXEL_MASK_OUT ) == 0\n",
      "        Ms.append(temp)\n",
      "        # Centers\n",
      "        Cxs.append(f[\"/entry_1/image_2/model/offCenterX\"][k])\n",
      "        Cys.append(f[\"/entry_1/image_2/model/offCenterY\"][k])\n",
      "        print Cxs"
     ],
     "language": "python",
     "metadata": {},
     "outputs": [
      {
       "output_type": "stream",
       "stream": "stdout",
       "text": [
        "(1, 7978)\n",
        "[  0   8  12  13  14  15  22  29  31  35  40  43  50  51  54  59  68  80\n",
        "  86  89 100 108 114 118 120 125 126 127 129 136 138 148 150 153 154 155\n",
        " 156 158 165 167 170 171 177 184 190 193 197 200 202 203 205 206 210 211\n",
        " 215 217 219 223 237 246 247 252 259 266 269 271 285 288 294 299 302 316\n",
        " 320 323 324 325 327 337 340 341 343 344 348 350 352 355 356 362 364 367\n",
        " 369 374 375 376 379 384 391 407 410 413 414 417 422 427 433 436 437 459\n",
        " 460 469 472 475 480 482 486 488 489 496 498 500]\n"
       ]
      },
      {
       "output_type": "stream",
       "stream": "stderr",
       "text": [
        "-c:17: RuntimeWarning: divide by zero encountered in log10\n",
        "-c:17: RuntimeWarning: invalid value encountered in log10\n"
       ]
      },
      {
       "ename": "KeyError",
       "evalue": "'Unable to open object (Component not found)'",
       "output_type": "pyerr",
       "traceback": [
        "\u001b[0;31m---------------------------------------------------------------------------\u001b[0m\n\u001b[0;31mKeyError\u001b[0m                                  Traceback (most recent call last)",
        "\u001b[0;32m<ipython-input-9-dfee20e77807>\u001b[0m in \u001b[0;36m<module>\u001b[0;34m()\u001b[0m\n\u001b[1;32m     20\u001b[0m         \u001b[0mMs\u001b[0m\u001b[0;34m.\u001b[0m\u001b[0mappend\u001b[0m\u001b[0;34m(\u001b[0m\u001b[0mtemp\u001b[0m\u001b[0;34m)\u001b[0m\u001b[0;34m\u001b[0m\u001b[0m\n\u001b[1;32m     21\u001b[0m         \u001b[0;31m# Centers\u001b[0m\u001b[0;34m\u001b[0m\u001b[0;34m\u001b[0m\u001b[0m\n\u001b[0;32m---> 22\u001b[0;31m         \u001b[0mCxs\u001b[0m\u001b[0;34m.\u001b[0m\u001b[0mappend\u001b[0m\u001b[0;34m(\u001b[0m\u001b[0mf\u001b[0m\u001b[0;34m[\u001b[0m\u001b[0;34m\"/entry_1/image_2/model/offCenterX\"\u001b[0m\u001b[0;34m]\u001b[0m\u001b[0;34m[\u001b[0m\u001b[0mk\u001b[0m\u001b[0;34m]\u001b[0m\u001b[0;34m)\u001b[0m\u001b[0;34m\u001b[0m\u001b[0m\n\u001b[0m\u001b[1;32m     23\u001b[0m         \u001b[0mCys\u001b[0m\u001b[0;34m.\u001b[0m\u001b[0mappend\u001b[0m\u001b[0;34m(\u001b[0m\u001b[0mf\u001b[0m\u001b[0;34m[\u001b[0m\u001b[0;34m\"/entry_1/image_2/model/offCenterY\"\u001b[0m\u001b[0;34m]\u001b[0m\u001b[0;34m[\u001b[0m\u001b[0mk\u001b[0m\u001b[0;34m]\u001b[0m\u001b[0;34m)\u001b[0m\u001b[0;34m\u001b[0m\u001b[0m\n\u001b[1;32m     24\u001b[0m         \u001b[0;32mprint\u001b[0m \u001b[0mCxs\u001b[0m\u001b[0;34m\u001b[0m\u001b[0m\n",
        "\u001b[0;32m/Library/Python/2.7/site-packages/h5py/_objects.so\u001b[0m in \u001b[0;36mh5py._objects.with_phil.wrapper (/Users/travis/build/MacPython/h5py-wheels/h5py/h5py/_objects.c:2405)\u001b[0;34m()\u001b[0m\n",
        "\u001b[0;32m/Library/Python/2.7/site-packages/h5py/_objects.so\u001b[0m in \u001b[0;36mh5py._objects.with_phil.wrapper (/Users/travis/build/MacPython/h5py-wheels/h5py/h5py/_objects.c:2362)\u001b[0;34m()\u001b[0m\n",
        "\u001b[0;32m/Library/Python/2.7/site-packages/h5py/_hl/group.pyc\u001b[0m in \u001b[0;36m__getitem__\u001b[0;34m(self, name)\u001b[0m\n\u001b[1;32m    158\u001b[0m                 \u001b[0;32mraise\u001b[0m \u001b[0mValueError\u001b[0m\u001b[0;34m(\u001b[0m\u001b[0;34m\"Invalid HDF5 object reference\"\u001b[0m\u001b[0;34m)\u001b[0m\u001b[0;34m\u001b[0m\u001b[0m\n\u001b[1;32m    159\u001b[0m         \u001b[0;32melse\u001b[0m\u001b[0;34m:\u001b[0m\u001b[0;34m\u001b[0m\u001b[0m\n\u001b[0;32m--> 160\u001b[0;31m             \u001b[0moid\u001b[0m \u001b[0;34m=\u001b[0m \u001b[0mh5o\u001b[0m\u001b[0;34m.\u001b[0m\u001b[0mopen\u001b[0m\u001b[0;34m(\u001b[0m\u001b[0mself\u001b[0m\u001b[0;34m.\u001b[0m\u001b[0mid\u001b[0m\u001b[0;34m,\u001b[0m \u001b[0mself\u001b[0m\u001b[0;34m.\u001b[0m\u001b[0m_e\u001b[0m\u001b[0;34m(\u001b[0m\u001b[0mname\u001b[0m\u001b[0;34m)\u001b[0m\u001b[0;34m,\u001b[0m \u001b[0mlapl\u001b[0m\u001b[0;34m=\u001b[0m\u001b[0mself\u001b[0m\u001b[0;34m.\u001b[0m\u001b[0m_lapl\u001b[0m\u001b[0;34m)\u001b[0m\u001b[0;34m\u001b[0m\u001b[0m\n\u001b[0m\u001b[1;32m    161\u001b[0m \u001b[0;34m\u001b[0m\u001b[0m\n\u001b[1;32m    162\u001b[0m         \u001b[0motype\u001b[0m \u001b[0;34m=\u001b[0m \u001b[0mh5i\u001b[0m\u001b[0;34m.\u001b[0m\u001b[0mget_type\u001b[0m\u001b[0;34m(\u001b[0m\u001b[0moid\u001b[0m\u001b[0;34m)\u001b[0m\u001b[0;34m\u001b[0m\u001b[0m\n",
        "\u001b[0;32m/Library/Python/2.7/site-packages/h5py/_objects.so\u001b[0m in \u001b[0;36mh5py._objects.with_phil.wrapper (/Users/travis/build/MacPython/h5py-wheels/h5py/h5py/_objects.c:2405)\u001b[0;34m()\u001b[0m\n",
        "\u001b[0;32m/Library/Python/2.7/site-packages/h5py/_objects.so\u001b[0m in \u001b[0;36mh5py._objects.with_phil.wrapper (/Users/travis/build/MacPython/h5py-wheels/h5py/h5py/_objects.c:2362)\u001b[0;34m()\u001b[0m\n",
        "\u001b[0;32m/Library/Python/2.7/site-packages/h5py/h5o.so\u001b[0m in \u001b[0;36mh5py.h5o.open (/Users/travis/build/MacPython/h5py-wheels/h5py/h5py/h5o.c:3456)\u001b[0;34m()\u001b[0m\n",
        "\u001b[0;31mKeyError\u001b[0m: 'Unable to open object (Component not found)'"
       ]
      }
     ],
     "prompt_number": 9
    },
    {
     "cell_type": "code",
     "collapsed": false,
     "input": [
      "M_new = imread(\"new_mask.png\")"
     ],
     "language": "python",
     "metadata": {},
     "outputs": [],
     "prompt_number": 118
    },
    {
     "cell_type": "code",
     "collapsed": false,
     "input": [
      "#print M_new"
     ],
     "language": "python",
     "metadata": {},
     "outputs": [],
     "prompt_number": 119
    },
    {
     "cell_type": "code",
     "collapsed": false,
     "input": [
      "#imshow(log10(Is[0]))\n",
      "#figure()\n",
      "#imshow(Ms[0])"
     ],
     "language": "python",
     "metadata": {},
     "outputs": [],
     "prompt_number": 120
    },
    {
     "cell_type": "code",
     "collapsed": false,
     "input": [
      "#out_folder = \"/Users/hgsur-a/pbcv/\"\n",
      "out_folder = \"/Users/hgsur-a/mnt/tmp/processed_data_tmp\"\n",
      "N_new = 240\n",
      "for i,I0,M0,cx,cy in zip(i_interesting,Is,Ms,Cxs,Cys):\n",
      "    I = spimage.crop(I0,N_new)\n",
      "    M = spimage.crop(M0,N_new)\n",
      "    \n",
      "    img = spimage.sp_image_alloc(I.shape[0],I.shape[1],1)\n",
      "    I[I<0] = 0\n",
      "    img.phased = 0\n",
      "    img.detector.image_center[:] =[spimage.center_to_pos(cy,I.shape[0]),\n",
      "                                                             spimage.center_to_pos(cx,I.shape[1]),\n",
      "                                                             0]\n",
      "    img.image[:,:] = I[:,:]\n",
      "    img.mask[:,:] = M[:,:]\n",
      "    \n",
      "    spimage.sp_image_write(img,\"%s/%i_0.h5\" % (out_folder,i),0)\n",
      "    \n",
      "    img.mask[:,:] *= spimage.crop(M_new,N_new)[:,:]\n",
      "    \n",
      "    spimage.sp_image_write(img,\"%s/%i_1.h5\" % (out_folder,i),0)\n",
      "    \n",
      "    MaskFill = zeros(M.shape,dtype=\"bool\")\n",
      "    MaskFill[128:,:128] = 1\n",
      "    print cx\n",
      "    Itmp,Mtmp = fill_centrosymmetric(I,M,MaskFill,cx,cy)\n",
      "    img.image[:,:] = Itmp[:,:]\n",
      "    img.mask[:,:] = Mtmp[:,:]\n",
      "    \n",
      "    spimage.sp_image_write(img,\"%s/%i_2.h5\" % (out_folder,i),0)"
     ],
     "language": "python",
     "metadata": {},
     "outputs": [
      {
       "output_type": "stream",
       "stream": "stdout",
       "text": [
        "-1.0\n",
        "0.0"
       ]
      },
      {
       "output_type": "stream",
       "stream": "stdout",
       "text": [
        "\n",
        "-0.5"
       ]
      },
      {
       "output_type": "stream",
       "stream": "stdout",
       "text": [
        "\n",
        "-1.0"
       ]
      },
      {
       "output_type": "stream",
       "stream": "stdout",
       "text": [
        "\n",
        "-0.5"
       ]
      },
      {
       "output_type": "stream",
       "stream": "stdout",
       "text": [
        "\n",
        "0.0"
       ]
      },
      {
       "output_type": "stream",
       "stream": "stdout",
       "text": [
        "\n",
        "0.0"
       ]
      },
      {
       "output_type": "stream",
       "stream": "stdout",
       "text": [
        "\n",
        "-1.0"
       ]
      },
      {
       "output_type": "stream",
       "stream": "stdout",
       "text": [
        "\n",
        "0.5"
       ]
      },
      {
       "output_type": "stream",
       "stream": "stdout",
       "text": [
        "\n",
        "-0.5"
       ]
      },
      {
       "output_type": "stream",
       "stream": "stdout",
       "text": [
        "\n",
        "0.0"
       ]
      },
      {
       "output_type": "stream",
       "stream": "stdout",
       "text": [
        "\n",
        "0.0"
       ]
      },
      {
       "output_type": "stream",
       "stream": "stdout",
       "text": [
        "\n",
        "-1.5"
       ]
      },
      {
       "output_type": "stream",
       "stream": "stdout",
       "text": [
        "\n",
        "0.0"
       ]
      },
      {
       "output_type": "stream",
       "stream": "stdout",
       "text": [
        "\n",
        "-1.5"
       ]
      },
      {
       "output_type": "stream",
       "stream": "stdout",
       "text": [
        "\n",
        "0.0"
       ]
      },
      {
       "output_type": "stream",
       "stream": "stdout",
       "text": [
        "\n",
        "-1.0"
       ]
      },
      {
       "output_type": "stream",
       "stream": "stdout",
       "text": [
        "\n",
        "0.0"
       ]
      },
      {
       "output_type": "stream",
       "stream": "stdout",
       "text": [
        "\n",
        "5.0"
       ]
      },
      {
       "output_type": "stream",
       "stream": "stdout",
       "text": [
        "\n",
        "-1.0"
       ]
      },
      {
       "output_type": "stream",
       "stream": "stdout",
       "text": [
        "\n"
       ]
      }
     ],
     "prompt_number": 121
    },
    {
     "cell_type": "code",
     "collapsed": false,
     "input": [],
     "language": "python",
     "metadata": {},
     "outputs": [],
     "prompt_number": 16
    },
    {
     "cell_type": "code",
     "collapsed": false,
     "input": [],
     "language": "python",
     "metadata": {},
     "outputs": []
    }
   ],
   "metadata": {}
  }
 ]
}