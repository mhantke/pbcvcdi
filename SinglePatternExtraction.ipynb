{
 "metadata": {
  "name": "",
  "signature": "sha256:e2d5972e0a497196102c395764fcac5480d09156be415f289be4bd8828741178"
 },
 "nbformat": 3,
 "nbformat_minor": 0,
 "worksheets": [
  {
   "cells": [
    {
     "cell_type": "code",
     "collapsed": false,
     "input": [
      "%pylab inline"
     ],
     "language": "python",
     "metadata": {},
     "outputs": [
      {
       "output_type": "stream",
       "stream": "stdout",
       "text": [
        "Populating the interactive namespace from numpy and matplotlib\n"
       ]
      }
     ],
     "prompt_number": 1
    },
    {
     "cell_type": "code",
     "collapsed": false,
     "input": [
      "import h5py\n",
      "import spimage"
     ],
     "language": "python",
     "metadata": {},
     "outputs": [],
     "prompt_number": 2
    },
    {
     "cell_type": "code",
     "collapsed": false,
     "input": [
      "PIXEL_IS_PERFECT = 0\n",
      "PIXEL_IS_INVALID = 1\n",
      "PIXEL_IS_SATURATED = 2\n",
      "PIXEL_IS_HOT = 4\n",
      "PIXEL_IS_DEAD = 8\n",
      "PIXEL_IS_SHADOWED = 16\n",
      "PIXEL_IS_IN_PEAKMASK = 32\n",
      "PIXEL_IS_TO_BE_IGNORED = 64\n",
      "PIXEL_IS_BAD = 128\n",
      "PIXEL_IS_OUT_OF_RESOLUTION_LIMITS = 256\n",
      "PIXEL_IS_MISSING = 512\n",
      "PIXEL_IS_NOISY = 1024\n",
      "PIXEL_IS_ARTIFACT_CORRECTED = 2048\n",
      "PIXEL_FAILED_ARTIFACT_CORRECTION = 4096\n",
      "PIXEL_IS_PEAK_FOR_HITFINDER = 8192\n",
      "PIXEL_IS_PHOTON_BACKGROUND_CORRECTED = 16384\n",
      "PIXEL_MASK_OUT = PIXEL_IS_INVALID | PIXEL_IS_SATURATED | PIXEL_IS_HOT | PIXEL_IS_DEAD | PIXEL_IS_SHADOWED |  PIXEL_IS_TO_BE_IGNORED | PIXEL_IS_BAD | PIXEL_IS_MISSING | PIXEL_FAILED_ARTIFACT_CORRECTION "
     ],
     "language": "python",
     "metadata": {},
     "outputs": [],
     "prompt_number": 78
    },
    {
     "cell_type": "code",
     "collapsed": false,
     "input": [
      "def fill_centrosymmetric(img,msk,fill_pix,cx,cy):\n",
      "    img_new = img.copy()\n",
      "    msk_new = msk.copy()\n",
      "    X,Y = numpy.meshgrid(numpy.arange(img.shape[1]),numpy.arange(img.shape[0]))\n",
      "    X = X[fill_pix]\n",
      "    Y = Y[fill_pix]\n",
      "    for x,y in zip(X,Y):\n",
      "#        cx_pos = (img.shape[1]-1)/2.\n",
      " #       cy_pos = (img.shape[0]-1)/2.\n",
      "        cx_pos = (img.shape[1]-1)/2. + cx\n",
      "        cy_pos = (img.shape[0]-1)/2. + cy\n",
      "        x2 = int(round(2*cx_pos - x))\n",
      "        y2 = int(round(2*cy_pos - y))\n",
      "        if x2 >= img.shape[1] or y2 >= img.shape[0] or x2 < 0 or y2 < 0:\n",
      "            pass\n",
      "        else:\n",
      "            img_new[y,x] = img[y2,x2]\n",
      "            msk_new[y,x] = msk[y2,x2]\n",
      "    return img_new,msk_new"
     ],
     "language": "python",
     "metadata": {},
     "outputs": [],
     "prompt_number": 79
    },
    {
     "cell_type": "code",
     "collapsed": false,
     "input": [
      "#filename = \"/Users/hgsur-a/mnt/test_r0179_20150210_043639/amoc6914-r0179.cxi\"\n",
      "#filename = \"/Users/hgsur-a/mnt/r0179_20150210_1158/amoc6914-r0179.cxi\"\n",
      "#filename = \"/Users/hgsur-a/mnt/r0180_20150210_1158/amoc6914-r0180.cxi\"\n",
      "filename = \"/Users/hgsur-a/mnt/r0181_20150210_1158/amoc6914-r0181.cxi\""
     ],
     "language": "python",
     "metadata": {},
     "outputs": [],
     "prompt_number": 115
    },
    {
     "cell_type": "code",
     "collapsed": false,
     "input": [
      "#print filename"
     ],
     "language": "python",
     "metadata": {},
     "outputs": [],
     "prompt_number": 116
    },
    {
     "cell_type": "code",
     "collapsed": false,
     "input": [
      "with h5py.File(filename,\"r\") as f:\n",
      "    tags = array(f[\"/entry_1/image_2/tags\"])\n",
      "    tags_names = f[\"/entry_1/image_2/tags\"].attrs[\"headings\"]\n",
      "    Is = []\n",
      "    Ms = []\n",
      "    Cxs = []\n",
      "    Cys = []\n",
      "    print tags.shape\n",
      "    i_interesting = arange(tags.shape[1])[tags[0,:] == 1]\n",
      "    print i_interesting\n",
      "    for i in range(20):\n",
      "#    for i in range(len(i_interesting)):\n",
      "        k = i_interesting[i]\n",
      "        # Intensities\n",
      "        I = f[\"/entry_1/image_2/data\"][k,:,:]\n",
      "        Is.append(I)\n",
      "        imsave(\"%i.png\",log10(I))\n",
      "        # Masks\n",
      "        temp = ( array(f[\"/entry_1/image_2/mask\"][k,:,:],dtype=\"uint16\") & PIXEL_MASK_OUT ) == 0\n",
      "        Ms.append(temp)\n",
      "        # Centers\n",
      "        Cxs.append(f[\"/entry_1/image_2/model/offCenterX\"][k])\n",
      "        Cys.append(f[\"/entry_1/image_2/model/offCenterY\"][k])\n",
      "        print Cxs"
     ],
     "language": "python",
     "metadata": {},
     "outputs": [
      {
       "output_type": "stream",
       "stream": "stdout",
       "text": [
        "(1, 7978)\n",
        "[  0   8   9  11  12  13  14  15  17  19  22  26  27  29  31  35  37  38\n",
        "  39  40  41  43  47  50  51  52  58  59  65  68  71  75  76  80  86  89\n",
        "  92  94 100 108 110 112 118 126 127 128 129 133 138 143 148 150 153 154\n",
        " 155 156 158 165 167 171 177 180 183 184 185 190 191 197 200 202]\n",
        "[-1.0]"
       ]
      },
      {
       "output_type": "stream",
       "stream": "stdout",
       "text": [
        "\n",
        "[-1.0, 0.0]"
       ]
      },
      {
       "output_type": "stream",
       "stream": "stdout",
       "text": [
        "\n",
        "[-1.0, 0.0, -0.5]"
       ]
      },
      {
       "output_type": "stream",
       "stream": "stdout",
       "text": [
        "\n",
        "[-1.0, 0.0, -0.5, -1.0]"
       ]
      },
      {
       "output_type": "stream",
       "stream": "stdout",
       "text": [
        "\n",
        "[-1.0, 0.0, -0.5, -1.0, -0.5]"
       ]
      },
      {
       "output_type": "stream",
       "stream": "stdout",
       "text": [
        "\n",
        "[-1.0, 0.0, -0.5, -1.0, -0.5, 0.0]"
       ]
      },
      {
       "output_type": "stream",
       "stream": "stdout",
       "text": [
        "\n",
        "[-1.0, 0.0, -0.5, -1.0, -0.5, 0.0, 0.0]"
       ]
      },
      {
       "output_type": "stream",
       "stream": "stdout",
       "text": [
        "\n",
        "[-1.0, 0.0, -0.5, -1.0, -0.5, 0.0, 0.0, -1.0]"
       ]
      },
      {
       "output_type": "stream",
       "stream": "stdout",
       "text": [
        "\n",
        "[-1.0, 0.0, -0.5, -1.0, -0.5, 0.0, 0.0, -1.0, 0.5]"
       ]
      },
      {
       "output_type": "stream",
       "stream": "stdout",
       "text": [
        "\n",
        "[-1.0, 0.0, -0.5, -1.0, -0.5, 0.0, 0.0, -1.0, 0.5, -0.5]"
       ]
      },
      {
       "output_type": "stream",
       "stream": "stdout",
       "text": [
        "\n",
        "[-1.0, 0.0, -0.5, -1.0, -0.5, 0.0, 0.0, -1.0, 0.5, -0.5, 0.0]"
       ]
      },
      {
       "output_type": "stream",
       "stream": "stdout",
       "text": [
        "\n",
        "[-1.0, 0.0, -0.5, -1.0, -0.5, 0.0, 0.0, -1.0, 0.5, -0.5, 0.0, 0.0]"
       ]
      },
      {
       "output_type": "stream",
       "stream": "stdout",
       "text": [
        "\n",
        "[-1.0, 0.0, -0.5, -1.0, -0.5, 0.0, 0.0, -1.0, 0.5, -0.5, 0.0, 0.0, -1.5]"
       ]
      },
      {
       "output_type": "stream",
       "stream": "stdout",
       "text": [
        "\n",
        "[-1.0, 0.0, -0.5, -1.0, -0.5, 0.0, 0.0, -1.0, 0.5, -0.5, 0.0, 0.0, -1.5, 0.0]"
       ]
      },
      {
       "output_type": "stream",
       "stream": "stdout",
       "text": [
        "\n",
        "[-1.0, 0.0, -0.5, -1.0, -0.5, 0.0, 0.0, -1.0, 0.5, -0.5, 0.0, 0.0, -1.5, 0.0, -1.5]"
       ]
      },
      {
       "output_type": "stream",
       "stream": "stdout",
       "text": [
        "\n",
        "[-1.0, 0.0, -0.5, -1.0, -0.5, 0.0, 0.0, -1.0, 0.5, -0.5, 0.0, 0.0, -1.5, 0.0, -1.5, 0.0]"
       ]
      },
      {
       "output_type": "stream",
       "stream": "stdout",
       "text": [
        "\n",
        "[-1.0, 0.0, -0.5, -1.0, -0.5, 0.0, 0.0, -1.0, 0.5, -0.5, 0.0, 0.0, -1.5, 0.0, -1.5, 0.0, -1.0]"
       ]
      },
      {
       "output_type": "stream",
       "stream": "stdout",
       "text": [
        "\n",
        "[-1.0, 0.0, -0.5, -1.0, -0.5, 0.0, 0.0, -1.0, 0.5, -0.5, 0.0, 0.0, -1.5, 0.0, -1.5, 0.0, -1.0, 0.0]"
       ]
      },
      {
       "output_type": "stream",
       "stream": "stdout",
       "text": [
        "\n",
        "[-1.0, 0.0, -0.5, -1.0, -0.5, 0.0, 0.0, -1.0, 0.5, -0.5, 0.0, 0.0, -1.5, 0.0, -1.5, 0.0, -1.0, 0.0, 5.0]"
       ]
      },
      {
       "output_type": "stream",
       "stream": "stdout",
       "text": [
        "\n",
        "[-1.0, 0.0, -0.5, -1.0, -0.5, 0.0, 0.0, -1.0, 0.5, -0.5, 0.0, 0.0, -1.5, 0.0, -1.5, 0.0, -1.0, 0.0, 5.0, -1.0]"
       ]
      },
      {
       "output_type": "stream",
       "stream": "stdout",
       "text": [
        "\n"
       ]
      }
     ],
     "prompt_number": 117
    },
    {
     "cell_type": "code",
     "collapsed": false,
     "input": [
      "M_new = imread(\"new_mask.png\")"
     ],
     "language": "python",
     "metadata": {},
     "outputs": [],
     "prompt_number": 118
    },
    {
     "cell_type": "code",
     "collapsed": false,
     "input": [
      "#print M_new"
     ],
     "language": "python",
     "metadata": {},
     "outputs": [],
     "prompt_number": 119
    },
    {
     "cell_type": "code",
     "collapsed": false,
     "input": [
      "#imshow(log10(Is[0]))\n",
      "#figure()\n",
      "#imshow(Ms[0])"
     ],
     "language": "python",
     "metadata": {},
     "outputs": [],
     "prompt_number": 120
    },
    {
     "cell_type": "code",
     "collapsed": false,
     "input": [
      "#out_folder = \"/Users/hgsur-a/pbcv/\"\n",
      "out_folder = \"/Users/hgsur-a/mnt/tmp/processed_data_tmp\"\n",
      "N_new = 240\n",
      "for i,I0,M0,cx,cy in zip(i_interesting,Is,Ms,Cxs,Cys):\n",
      "    I = spimage.crop(I0,N_new)\n",
      "    M = spimage.crop(M0,N_new)\n",
      "    \n",
      "    img = spimage.sp_image_alloc(I.shape[0],I.shape[1],1)\n",
      "    I[I<0] = 0\n",
      "    img.phased = 0\n",
      "    img.detector.image_center[:] =[spimage.center_to_pos(cy,I.shape[0]),\n",
      "                                                             spimage.center_to_pos(cx,I.shape[1]),\n",
      "                                                             0]\n",
      "    img.image[:,:] = I[:,:]\n",
      "    img.mask[:,:] = M[:,:]\n",
      "    \n",
      "    spimage.sp_image_write(img,\"%s/%i_0.h5\" % (out_folder,i),0)\n",
      "    \n",
      "    img.mask[:,:] *= spimage.crop(M_new,N_new)[:,:]\n",
      "    \n",
      "    spimage.sp_image_write(img,\"%s/%i_1.h5\" % (out_folder,i),0)\n",
      "    \n",
      "    MaskFill = zeros(M.shape,dtype=\"bool\")\n",
      "    MaskFill[128:,:128] = 1\n",
      "    print cx\n",
      "    Itmp,Mtmp = fill_centrosymmetric(I,M,MaskFill,cx,cy)\n",
      "    img.image[:,:] = Itmp[:,:]\n",
      "    img.mask[:,:] = Mtmp[:,:]\n",
      "    \n",
      "    spimage.sp_image_write(img,\"%s/%i_2.h5\" % (out_folder,i),0)"
     ],
     "language": "python",
     "metadata": {},
     "outputs": [
      {
       "output_type": "stream",
       "stream": "stdout",
       "text": [
        "-1.0\n",
        "0.0"
       ]
      },
      {
       "output_type": "stream",
       "stream": "stdout",
       "text": [
        "\n",
        "-0.5"
       ]
      },
      {
       "output_type": "stream",
       "stream": "stdout",
       "text": [
        "\n",
        "-1.0"
       ]
      },
      {
       "output_type": "stream",
       "stream": "stdout",
       "text": [
        "\n",
        "-0.5"
       ]
      },
      {
       "output_type": "stream",
       "stream": "stdout",
       "text": [
        "\n",
        "0.0"
       ]
      },
      {
       "output_type": "stream",
       "stream": "stdout",
       "text": [
        "\n",
        "0.0"
       ]
      },
      {
       "output_type": "stream",
       "stream": "stdout",
       "text": [
        "\n",
        "-1.0"
       ]
      },
      {
       "output_type": "stream",
       "stream": "stdout",
       "text": [
        "\n",
        "0.5"
       ]
      },
      {
       "output_type": "stream",
       "stream": "stdout",
       "text": [
        "\n",
        "-0.5"
       ]
      },
      {
       "output_type": "stream",
       "stream": "stdout",
       "text": [
        "\n",
        "0.0"
       ]
      },
      {
       "output_type": "stream",
       "stream": "stdout",
       "text": [
        "\n",
        "0.0"
       ]
      },
      {
       "output_type": "stream",
       "stream": "stdout",
       "text": [
        "\n",
        "-1.5"
       ]
      },
      {
       "output_type": "stream",
       "stream": "stdout",
       "text": [
        "\n",
        "0.0"
       ]
      },
      {
       "output_type": "stream",
       "stream": "stdout",
       "text": [
        "\n",
        "-1.5"
       ]
      },
      {
       "output_type": "stream",
       "stream": "stdout",
       "text": [
        "\n",
        "0.0"
       ]
      },
      {
       "output_type": "stream",
       "stream": "stdout",
       "text": [
        "\n",
        "-1.0"
       ]
      },
      {
       "output_type": "stream",
       "stream": "stdout",
       "text": [
        "\n",
        "0.0"
       ]
      },
      {
       "output_type": "stream",
       "stream": "stdout",
       "text": [
        "\n",
        "5.0"
       ]
      },
      {
       "output_type": "stream",
       "stream": "stdout",
       "text": [
        "\n",
        "-1.0"
       ]
      },
      {
       "output_type": "stream",
       "stream": "stdout",
       "text": [
        "\n"
       ]
      }
     ],
     "prompt_number": 121
    },
    {
     "cell_type": "code",
     "collapsed": false,
     "input": [],
     "language": "python",
     "metadata": {},
     "outputs": [],
     "prompt_number": 16
    },
    {
     "cell_type": "code",
     "collapsed": false,
     "input": [],
     "language": "python",
     "metadata": {},
     "outputs": []
    }
   ],
   "metadata": {}
  }
 ]
}