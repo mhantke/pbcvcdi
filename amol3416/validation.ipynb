{
 "cells": [
  {
   "cell_type": "code",
   "execution_count": null,
   "metadata": {
    "collapsed": false
   },
   "outputs": [],
   "source": [
    "import spimage\n",
    "import h5py\n",
    "import numpy as np\n",
    "import scipy.ndimage as ndimage\n",
    "import scipy.ndimage.morphology as morphology\n",
    "import matplotlib.pyplot as plt\n",
    "import matplotlib.colors as colors"
   ]
  },
  {
   "cell_type": "code",
   "execution_count": null,
   "metadata": {
    "collapsed": true
   },
   "outputs": [],
   "source": [
    "filename = \"/Users/benedikt/data/LCLS/amol3416/pbcv/phasing/r0098/r0098_004.cxi\""
   ]
  },
  {
   "cell_type": "code",
   "execution_count": null,
   "metadata": {
    "collapsed": false
   },
   "outputs": [],
   "source": [
    "pixelsize  = 4*75*1e-6\n",
    "distance   = 0.37\n",
    "wavelength = 1.59e-9\n",
    "shape = (256,256)\n",
    "x_to_q = lambda x: 2*np.sin(np.arctan2(x*pixelsize, distance)/2.) / wavelength\n",
    "dx = wavelength * distance / (shape[1] * pixelsize) * 1e9 #[nm/px]"
   ]
  },
  {
   "cell_type": "code",
   "execution_count": null,
   "metadata": {
    "collapsed": false
   },
   "outputs": [],
   "source": [
    "threshold = 0.04\n",
    "with h5py.File(filename, 'r') as f:\n",
    "    real_error = f['scores_final']['real_error'][:]\n",
    "    selection  = real_error < threshold"
   ]
  },
  {
   "cell_type": "code",
   "execution_count": null,
   "metadata": {
    "collapsed": false
   },
   "outputs": [],
   "source": [
    "plt.figure()\n",
    "plt.plot(np.sort(real_error))\n",
    "plt.axhline(threshold, color='r')\n",
    "plt.show()"
   ]
  },
  {
   "cell_type": "code",
   "execution_count": null,
   "metadata": {
    "collapsed": true
   },
   "outputs": [],
   "source": [
    "with h5py.File(filename, 'r') as f:\n",
    "    fourier_space_final = f['fourier_space_final'][selection,:,:]\n",
    "    real_space_final = f['real_space_final'][selection,:,:]\n",
    "    support_final    = f['support_final'][selection,:,:]"
   ]
  },
  {
   "cell_type": "code",
   "execution_count": null,
   "metadata": {
    "collapsed": false
   },
   "outputs": [],
   "source": [
    "plt.figure()\n",
    "plt.imshow(np.abs(fourier_space_final[0]), interpolation='none', cmap='magma', norm=colors.LogNorm())\n",
    "plt.colorbar()\n",
    "plt.show()"
   ]
  },
  {
   "cell_type": "code",
   "execution_count": null,
   "metadata": {
    "collapsed": false
   },
   "outputs": [],
   "source": [
    "output_prtf = spimage.prtf(real_space_final, support_final, translate=True, enantio=True)"
   ]
  },
  {
   "cell_type": "code",
   "execution_count": null,
   "metadata": {
    "collapsed": false
   },
   "outputs": [],
   "source": [
    "# Resulst from PRTF calculation\n",
    "super_image = output_prtf['super_image']/selection.sum()\n",
    "prtf_2d     = output_prtf['prtf']\n",
    "fourier_super = np.fft.fftshift(np.fft.fftn(super_image))\n",
    "th = np.mean(np.abs(super_image[~support_final[0]]))\n",
    "st = np.std(np.abs(super_image[~support_final[0]]))\n",
    "super_support = (np.abs(super_image) > th + 8*st)[c+1:-c,c+1:-c]\n",
    "\n",
    "# Radial average of PRTF\n",
    "nx, ny = prtf_2d.shape[1], prtf_2d.shape[0]\n",
    "xx,yy = np.meshgrid(np.arange(nx),np.arange(ny))\n",
    "mask_radial = np.sqrt((xx-nx/2)**2 + (yy-ny/2)**2) < nx/2\n",
    "prtf_centers, prtf_radial = spimage.radialMeanImage(prtf_2d, output_r=True)\n",
    "prtf_qr = x_to_q(prtf_centers)*1e-9\n",
    "limit_qr = prtf_qr[np.abs(ndimage.gaussian_filter1d(prtf_radial,2) - (1/np.e)).argmin()]"
   ]
  },
  {
   "cell_type": "code",
   "execution_count": null,
   "metadata": {
    "collapsed": false
   },
   "outputs": [],
   "source": [
    "xx,yy = np.meshgrid(np.arange(super_support.shape[0]), np.arange(super_support.shape[0]))\n",
    "boundary = (morphology.distance_transform_edt(super_support) == 1)\n",
    "coords = np.transpose(np.vstack([xx[boundary], yy[boundary]]))\n",
    "f,ij = find_furthest(coords)\n",
    "support_largest_nm = f * dx\n",
    "x1,x2 = coords[ij[0]], coords[ij[1]]"
   ]
  },
  {
   "cell_type": "code",
   "execution_count": null,
   "metadata": {
    "collapsed": false
   },
   "outputs": [],
   "source": [
    "c = 110\n",
    "fig = plt.figure(figsize=(11,4))\n",
    "axl = fig.add_subplot(121)\n",
    "axl.set_title('PRTF (using %d images)' %selection.sum())\n",
    "axl.plot(prtf_qr, prtf_radial, color='k')\n",
    "axl.axhline(1/np.e, color='k', ls=':')\n",
    "axl.text(prtf_qr[-1], 1/np.e, '1/e', va='bottom', ha='right')\n",
    "#ax.axhline(1./np.sqrt(selection.sum()), color='0.75', ls='--')\n",
    "axl.axvline(limit_qr, color='r', ls='--')\n",
    "axl.text(limit_qr, .95, r'$\\Delta$ = %.2f nm  ' %(1/limit_qr), va='top', ha='right', color='r')\n",
    "axl.axvline(x_to_q(256./2)*1e-9, color='0.75', ls='-')\n",
    "axl.text(x_to_q(260./2)*1e-9, .95, 'detector edge', va='top', ha='left', color='0.75')\n",
    "axl.set_xlabel(r'Spatial frequency [nm$^{-1}$]')\n",
    "axl.set_ylabel('PRTF')\n",
    "axr  = fig.add_subplot(122)\n",
    "axr.set_title('averaged (%d images)' %selection.sum())\n",
    "axr.set_xticks([])\n",
    "axr.set_yticks([])\n",
    "axr.plot([x1[0],x2[0]], [x1[1],x2[1]], 'ro-', color='w')\n",
    "axr.text(x2[0], x2[1]-1,'%d nm' %(support_largest_nm), va='bottom', ha='left', color='w')\n",
    "im = axr.imshow(np.abs(super_image)[c+1:-c,c+1:-c], cmap='viridis', interpolation='none')\n",
    "axr.add_patch(plt.Rectangle((2,32),100./7.7,1.2, facecolor='w', lw=0))\n",
    "axr.text(8.3,31.5, r'100 nm', color='w', weight='bold', fontsize=10, ha='center', va='bottom')\n",
    "cb = fig.colorbar(im)\n",
    "cb.ax.set_ylabel('Electron density [arb. units]')\n",
    "plt.show()"
   ]
  },
  {
   "cell_type": "code",
   "execution_count": null,
   "metadata": {
    "collapsed": false
   },
   "outputs": [],
   "source": [
    "fig = plt.figure(figsize=(11,4))\n",
    "axl = fig.add_subplot(121)\n",
    "im1 = axl.imshow(np.abs(fourier_super), \n",
    "           interpolation='none', cmap='magma', norm=colors.LogNorm(vmin=0.1))\n",
    "axl.set_xticks([])\n",
    "axl.set_yticks([])\n",
    "fig.colorbar(im1)\n",
    "axr = fig.add_subplot(122)\n",
    "imr = axr.imshow(np.angle(fourier_super), \n",
    "           interpolation='none', cmap='Blues')\n",
    "axr.set_xticks([])\n",
    "axr.set_yticks([])\n",
    "fig.colorbar(imr)\n",
    "plt.show()"
   ]
  }
 ],
 "metadata": {
  "kernelspec": {
   "display_name": "Python 2",
   "language": "python",
   "name": "python2"
  },
  "language_info": {
   "codemirror_mode": {
    "name": "ipython",
    "version": 2
   },
   "file_extension": ".py",
   "mimetype": "text/x-python",
   "name": "python",
   "nbconvert_exporter": "python",
   "pygments_lexer": "ipython2",
   "version": "2.7.10"
  }
 },
 "nbformat": 4,
 "nbformat_minor": 1
}
