{
 "cells": [
  {
   "cell_type": "code",
   "execution_count": null,
   "metadata": {
    "collapsed": true
   },
   "outputs": [],
   "source": [
    "import h5py\n",
    "import numpy as np\n",
    "import scipy as sp\n",
    "import matplotlib.pyplot as plt\n",
    "%matplotlib notebook"
   ]
  },
  {
   "cell_type": "markdown",
   "metadata": {},
   "source": [
    "# Data access"
   ]
  },
  {
   "cell_type": "code",
   "execution_count": null,
   "metadata": {
    "collapsed": false
   },
   "outputs": [],
   "source": [
    "runnr = 100\n",
    "base_path = '/Users/benedikt/data/LCLS/amol3416/pbcv/'\n",
    "filename_ol1 = base_path + 'amol3416_r%04d_ol1.h5' %runnr\n",
    "filename_ol3 = base_path + 'amol3416_r%04d_ol3.h5' %runnr\n",
    "filename_sizing = base_path + 'sizing/amol3416_r%04d_sizing.h5' %runnr"
   ]
  },
  {
   "cell_type": "markdown",
   "metadata": {},
   "source": [
    "# Hit-finding"
   ]
  },
  {
   "cell_type": "code",
   "execution_count": null,
   "metadata": {
    "collapsed": false
   },
   "outputs": [],
   "source": [
    "# Loading hitscore for output level 1 (all events)\n",
    "with h5py.File(filename_ol1, 'r') as f:\n",
    "    timestamp_all = f['entry_1/event/timestamp'][:]\n",
    "    hitscore_all  = f['entry_1/result_1/hitscore_litpixel'][:]\n",
    "\n",
    "# Loading hitscore for output level 3 (all hits)\n",
    "with h5py.File(filename_ol3, 'r') as f:\n",
    "    timestamp_hits = f['entry_1/event/timestamp'][:]\n",
    "    hitscore_hits = f['entry_1/result_1/hitscore_litpixel'][:]\n",
    "    hitscore_threshold = f['entry_1/result_1/hitscore_litpixel_threshold'][0]\n",
    "\n",
    "# Time limits\n",
    "time_limits = {}\n",
    "time_limits['0098'] = [3000,-1000]\n",
    "time_limits['0100'] = [0,13000]\n",
    "tmin = timestamp_all[time_limits['%04d' %runnr][0]]\n",
    "tmax = timestamp_all[time_limits['%04d' %runnr][1]]\n",
    "\n",
    "# Valid (within time limits)\n",
    "valid_all  = (timestamp_all > tmin) & (timestamp_all < tmax)\n",
    "valid_hits = (timestamp_hits > tmin) & (timestamp_hits < tmax)\n",
    "\n",
    "# Calculate overall hitrate\n",
    "hitrate = float(valid_hits.sum()) / valid_all.sum() * 100\n",
    "print \"The overall hitrate for run %d is %.1f%% (%d hits)\" %(runnr, hitrate, valid_hits.sum())\n",
    "    \n",
    "# Plotting hitscore and threshold\n",
    "fig = plt.figure()\n",
    "ax  = fig.add_subplot(111)\n",
    "ax.set_title('Hitfinding (run %d) - %d hits' %(runnr, valid_hits.sum()))\n",
    "ax.scatter(timestamp_all,  hitscore_all,  color='k', s=1, marker='.')\n",
    "ax.scatter(timestamp_hits, hitscore_hits, color='r', s=1, marker='.')\n",
    "ax.axvspan(tmin, tmax, alpha=0.3, color='0.9')\n",
    "ax.set_xticks([])\n",
    "ax.set_xlabel('Time')\n",
    "ax.set_ylabel('Hitscore (Nr. of lit pixel)')\n",
    "ax.semilogy()\n",
    "plt.show()"
   ]
  },
  {
   "cell_type": "markdown",
   "metadata": {
    "collapsed": true
   },
   "source": [
    "# Experimental parameters"
   ]
  },
  {
   "cell_type": "code",
   "execution_count": null,
   "metadata": {
    "collapsed": false
   },
   "outputs": [],
   "source": [
    "# Load parameters from file\n",
    "with h5py.File(filename_ol3, 'r') as f:\n",
    "    photon_energy_ev = f['entry_1/FEL/photon_energy_eV_SLAC'][:]\n",
    "    wavelength_nm    = f['entry_1/FEL/wavelength_nm_SLAC'][:]\n",
    "    pulse_energy_mJ  = f['entry_1/detector_3/pulse_energy_mJ'][:]\n",
    "print \"Run %d has photon energy of (mean/std): %6.2f/%.3f eV\" %(runnr, photon_energy_ev.mean(), photon_energy_ev.std())\n",
    "print \"Run %d has a wavelength  of (mean/std): %6.2f/%.3f nm\" %(runnr, wavelength_nm.mean(),    wavelength_nm.std())\n",
    "print \"Run %d has pulse  energy of (mean/std): %6.2f/%.3f mJ\" %(runnr, pulse_energy_mJ.mean(),  pulse_energy_mJ.std())"
   ]
  },
  {
   "cell_type": "markdown",
   "metadata": {},
   "source": [
    "# Calculate initial support size"
   ]
  },
  {
   "cell_type": "code",
   "execution_count": null,
   "metadata": {
    "collapsed": false
   },
   "outputs": [],
   "source": [
    "# Parameters\n",
    "pixelsize = 75 * 1e-6 # [m]\n",
    "distance = 370 * 1e-3 # [m]\n",
    "wavelength = wavelength_nm.mean() * 1e-9 # [m]\n",
    "downsampling = 4.\n",
    "shape = (256,256)\n",
    "\n",
    "# Pixelsize in real space\n",
    "dx = wavelength * distance / (shape[1] * pixelsize*downsampling) #[m/px]\n",
    "print \"One pixel in real space corresponds to %.1f nm\" %(dx*1e9)\n",
    "print \"The support radius for PBCV (160 nm in diameter) should be: %d px\" %((160. / (dx*1e9)) / 2.)"
   ]
  },
  {
   "cell_type": "markdown",
   "metadata": {},
   "source": [
    "# Resolution"
   ]
  },
  {
   "cell_type": "code",
   "execution_count": null,
   "metadata": {
    "collapsed": false
   },
   "outputs": [],
   "source": [
    "x_to_q = lambda x: 2*np.sin(np.arctan2(x*pixelsize, distance)/2.) / wavelength\n",
    "print \"The resolution (at the edge)   is %.2f nm\" %(1e9/x_to_q(512.))\n",
    "print \"The resolution (in the corner) is %.2f nm\" %(1e9/x_to_q(512.*np.sqrt(2)))"
   ]
  }
 ],
 "metadata": {
  "kernelspec": {
   "display_name": "Python 2",
   "language": "python",
   "name": "python2"
  },
  "language_info": {
   "codemirror_mode": {
    "name": "ipython",
    "version": 2
   },
   "file_extension": ".py",
   "mimetype": "text/x-python",
   "name": "python",
   "nbconvert_exporter": "python",
   "pygments_lexer": "ipython2",
   "version": "2.7.10"
  }
 },
 "nbformat": 4,
 "nbformat_minor": 1
}
