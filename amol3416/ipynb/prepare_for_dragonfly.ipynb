{
 "cells": [
  {
   "cell_type": "code",
   "execution_count": 11,
   "metadata": {
    "collapsed": true
   },
   "outputs": [],
   "source": [
    "import sys, os\n",
    "sys.path.append(\"/Users/benedikt/phd-project/software/single-particle/Dragonfly/utils/\")\n",
    "from py_src import py_utils\n",
    "from py_src import writeemc\n",
    "from py_src import read_config\n",
    "import h5py\n",
    "import numpy as np"
   ]
  },
  {
   "cell_type": "code",
   "execution_count": 6,
   "metadata": {
    "collapsed": false
   },
   "outputs": [],
   "source": [
    "pm = read_config.get_detector_config('/Users/benedikt/data/LCLS/amol3416/pbcv/dragonfly/recon_0001/config.ini') "
   ]
  },
  {
   "cell_type": "code",
   "execution_count": 7,
   "metadata": {
    "collapsed": false
   },
   "outputs": [
    {
     "name": "stdout",
     "output_type": "stream",
     "text": [
      "Writing emc file to /Users/benedikt/data/LCLS/amol3416/pbcv/dragonfly/recon_0001/data/input.emc\n"
     ]
    }
   ],
   "source": [
    "output_filename = \"/Users/benedikt/data/LCLS/amol3416/pbcv/dragonfly/recon_0001/data/input.emc\"\n",
    "emcwriter = writeemc.EMC_writer(output_filename, pm['dets_x']*pm['dets_y'])"
   ]
  },
  {
   "cell_type": "code",
   "execution_count": 9,
   "metadata": {
    "collapsed": true
   },
   "outputs": [],
   "source": [
    "runnr = 98\n",
    "base_path = '/Users/benedikt/data/LCLS/amol3416/pbcv/'\n",
    "filename_ol3 = base_path + 'amol3416_r%04d_ol3.h5' %runnr\n",
    "filename_phasing = base_path + 'phasing_threshold/amol3416_r%04d_phasing.h5' %runnr"
   ]
  },
  {
   "cell_type": "code",
   "execution_count": 12,
   "metadata": {
    "collapsed": false
   },
   "outputs": [],
   "source": [
    "with h5py.File(filename_phasing, 'r') as f:\n",
    "    good = f['entry_1/result_1/tags'][0] == False\n",
    "    intensities = f['entry_1/result_1/intensities'][good,:,:]\n",
    "    #fourier_space = f['entry_1/result_1/fourier_space'][good,:,:]\n",
    "    #real_space = np.abs(f['entry_1/result_1/real_space'][good,:,:])\n",
    "    #mask = f['entry_1/result_1/mask'][good,:,:]"
   ]
  },
  {
   "cell_type": "code",
   "execution_count": 13,
   "metadata": {
    "collapsed": true
   },
   "outputs": [],
   "source": [
    "for i in range(intensities.shape[0]):\n",
    "    emcwriter.write_frame(intensities[i].flatten()) "
   ]
  },
  {
   "cell_type": "code",
   "execution_count": 15,
   "metadata": {
    "collapsed": false
   },
   "outputs": [
    {
     "name": "stdout",
     "output_type": "stream",
     "text": [
      "num_data = 885, mean_count = 6.2519e+05\n"
     ]
    }
   ],
   "source": [
    "emcwriter.finish_write()"
   ]
  },
  {
   "cell_type": "code",
   "execution_count": null,
   "metadata": {
    "collapsed": true
   },
   "outputs": [],
   "source": []
  }
 ],
 "metadata": {
  "kernelspec": {
   "display_name": "Python 2",
   "language": "python",
   "name": "python2"
  },
  "language_info": {
   "codemirror_mode": {
    "name": "ipython",
    "version": 2
   },
   "file_extension": ".py",
   "mimetype": "text/x-python",
   "name": "python",
   "nbconvert_exporter": "python",
   "pygments_lexer": "ipython2",
   "version": "2.7.10"
  }
 },
 "nbformat": 4,
 "nbformat_minor": 1
}
