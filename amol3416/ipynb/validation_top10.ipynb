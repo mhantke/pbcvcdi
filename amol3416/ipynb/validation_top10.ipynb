{
 "cells": [
  {
   "cell_type": "code",
   "execution_count": null,
   "metadata": {
    "collapsed": false
   },
   "outputs": [],
   "source": [
    "import spimage\n",
    "import h5py\n",
    "import numpy as np\n",
    "import scipy.ndimage as ndimage\n",
    "import scipy.ndimage.morphology as morphology\n",
    "import matplotlib.pyplot as plt\n",
    "import matplotlib.colors as colors"
   ]
  },
  {
   "cell_type": "code",
   "execution_count": null,
   "metadata": {
    "collapsed": true
   },
   "outputs": [],
   "source": [
    "filename = \"/Users/benedikt/data/LCLS/amol3416/pbcv/phasing/r0098/r0098_%03d.cxi\""
   ]
  },
  {
   "cell_type": "code",
   "execution_count": null,
   "metadata": {
    "collapsed": false
   },
   "outputs": [],
   "source": [
    "pixelsize  = 4*75*1e-6\n",
    "distance   = 0.37\n",
    "wavelength = 1.59e-9\n",
    "shape = (256,256)\n",
    "x_to_q = lambda x: 2*np.sin(np.arctan2(x*pixelsize, distance)/2.) / wavelength\n",
    "dx = wavelength * distance / (shape[1] * pixelsize) * 1e9 #[nm/px]"
   ]
  },
  {
   "cell_type": "code",
   "execution_count": null,
   "metadata": {
    "collapsed": false
   },
   "outputs": [],
   "source": [
    "thresholds = [0.04, 0.04, 0.05, 0.045, 0.04, 0.04, 0.04, 0.04, 0.04, 0.05]\n",
    "selections = []\n",
    "for i in range(10):\n",
    "    with h5py.File(filename %i, 'r') as f:\n",
    "        real_error = f['scores_final']['real_error'][:]\n",
    "        selections.append(real_error < thresholds[i])"
   ]
  },
  {
   "cell_type": "code",
   "execution_count": null,
   "metadata": {
    "collapsed": false
   },
   "outputs": [],
   "source": [
    "output = []\n",
    "for i in range(10):\n",
    "    with h5py.File(filename %i, 'r') as f:\n",
    "        real_space_final = f['real_space_final'][selections[i],:,:]\n",
    "        support_final    = f['support_final'][selections[i],:,:]\n",
    "        output.append(spimage.prtf(real_space_final, support_final, translate=True, enantio=True))"
   ]
  },
  {
   "cell_type": "code",
   "execution_count": null,
   "metadata": {
    "collapsed": false
   },
   "outputs": [],
   "source": [
    "# Resulst from PRTF calculation\n",
    "images = []\n",
    "for i in range(10):\n",
    "    images.append(output[i]['super_image']/selections[i].sum())"
   ]
  },
  {
   "cell_type": "code",
   "execution_count": null,
   "metadata": {
    "collapsed": false
   },
   "outputs": [],
   "source": [
    "c = 110\n",
    "fig, axes = plt.subplots(nrows=2, ncols=5)\n",
    "fig.set_size_inches(10, 4, forward=True)\n",
    "for i in range(10):\n",
    "    k,l = i//5,i%5\n",
    "    im = axes[k,l].imshow(np.abs(images[i])[c+1:-c,c+1:-c], cmap='viridis', vmin=0.01, vmax=2.2, interpolation='none')\n",
    "    axes[k,l].axis('off')\n",
    "    axes[k,l].text(0,0, '%d/1000' %selections[i].sum(),  color='w', va='top', ha='left')\n",
    "axes[1,4].add_patch(plt.Rectangle((2,32),100./7.7,1.2, facecolor='w', lw=0))\n",
    "axes[1,4].text(8.3,31.5, r'100 nm', color='w', weight='bold', fontsize=10, ha='center', va='bottom')\n",
    "ax = fig.add_axes((.9,0.127,0.02,0.775))\n",
    "cb = fig.colorbar(im, cax=ax)\n",
    "cb.outline.set_visible(False)\n",
    "cb.ax.set_ylabel('Electron density [arb. units]')\n",
    "plt.subplots_adjust(wspace=0.001, hspace=0.01)\n",
    "plt.show()"
   ]
  }
 ],
 "metadata": {
  "kernelspec": {
   "display_name": "Python 2",
   "language": "python",
   "name": "python2"
  },
  "language_info": {
   "codemirror_mode": {
    "name": "ipython",
    "version": 2
   },
   "file_extension": ".py",
   "mimetype": "text/x-python",
   "name": "python",
   "nbconvert_exporter": "python",
   "pygments_lexer": "ipython2",
   "version": "2.7.10"
  }
 },
 "nbformat": 4,
 "nbformat_minor": 1
}
