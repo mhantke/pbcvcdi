{
 "cells": [
  {
   "cell_type": "code",
   "execution_count": 1,
   "metadata": {
    "collapsed": true
   },
   "outputs": [],
   "source": [
    "import spimage\n",
    "import h5py\n",
    "import numpy as np\n",
    "import matplotlib.pyplot as plt\n",
    "import matplotlib.colors as colors"
   ]
  },
  {
   "cell_type": "code",
   "execution_count": 7,
   "metadata": {
    "collapsed": true
   },
   "outputs": [],
   "source": [
    "runnr = 98\n",
    "base_path = '/Users/benedikt/data/LCLS/amol3416/pbcv/'\n",
    "filename_ol1 = base_path + 'amol3416_r%04d_ol1.h5' %runnr\n",
    "filename_ol3 = base_path + 'amol3416_r%04d_ol3.h5' %runnr\n",
    "filename_sizing  = base_path + 'sizing/amol3416_r%04d_sizing.h5' %runnr\n",
    "filename_phasing = base_path + 'phasing_threshold/amol3416_r%04d_phasing.h5' %runnr\n",
    "outfolder = base_path + 'emc/input/'"
   ]
  },
  {
   "cell_type": "markdown",
   "metadata": {},
   "source": [
    "# Save scaled thumbnails (for tagging)"
   ]
  },
  {
   "cell_type": "code",
   "execution_count": 3,
   "metadata": {
    "collapsed": true
   },
   "outputs": [],
   "source": [
    "with h5py.File(filename_phasing, 'a') as f:\n",
    "    thumbnail = np.abs(f['entry_1/result_1/thumbnail'][:])\n",
    "    m = thumbnail.sum(axis=(1,2)).reshape((thumbnail.shape[0], 1,1))\n",
    "    thumbnail_normalized = thumbnail / m * m.mean()\n",
    "    del f['entry_1/result_1/thumbnail2']\n",
    "    f['entry_1/result_1/thumbnail2'] = thumbnail_normalized\n",
    "    f['entry_1/result_1/thumbnail2'].attrs[\"axes\"] = ['experiment_identifier:y:x']"
   ]
  },
  {
   "cell_type": "markdown",
   "metadata": {},
   "source": [
    "# Extract good data and save for emc"
   ]
  },
  {
   "cell_type": "code",
   "execution_count": 4,
   "metadata": {
    "collapsed": true
   },
   "outputs": [],
   "source": [
    "with h5py.File(filename_phasing, 'r') as f:\n",
    "    good = f['entry_1/result_1/tags'][0] == False\n",
    "    intensities = f['entry_1/result_1/intensities'][good,:,:]\n",
    "    real_space = np.abs(f['entry_1/result_1/real_space'][good,:,:])\n",
    "    mask = f['entry_1/result_1/mask'][good,:,:]"
   ]
  },
  {
   "cell_type": "code",
   "execution_count": 16,
   "metadata": {
    "collapsed": false
   },
   "outputs": [],
   "source": [
    "scaling = np.sum(real_space**2, axis=(1,2)).reshape((real_space.shape[0],1,1))\n",
    "intensities_scaled = intensities / scaling * scaling.mean()"
   ]
  },
  {
   "cell_type": "code",
   "execution_count": 26,
   "metadata": {
    "collapsed": true
   },
   "outputs": [],
   "source": [
    "distance = 0.37 #[m]\n",
    "wavelength = 1.59e-9 #[m]\n",
    "center = (128.,128.)\n",
    "pixelsize = 4*75e-6 # [m]\n",
    "nimages = intensities_scaled.shape[0]"
   ]
  },
  {
   "cell_type": "code",
   "execution_count": 51,
   "metadata": {
    "collapsed": false
   },
   "outputs": [],
   "source": [
    "for i in range(nimages):\n",
    "    with h5py.File(outfolder + '%04d.h5' %i, 'w') as f:\n",
    "        f['detector_distance'] = [distance]\n",
    "        f['image_center'] = center\n",
    "        f['lambda'] = [wavelength]\n",
    "        f['mask'] = mask[i]\n",
    "        f['num_dimensions'] = [2]\n",
    "        f['phased'] = [0]\n",
    "        f['pixel_size'] = [pixelsize]\n",
    "        f['real'] = intensities_scaled[i]\n",
    "        f['scaled'] = [0.]\n",
    "        f['shifted'] = [0.]\n",
    "        f['version'] = [2]"
   ]
  },
  {
   "cell_type": "code",
   "execution_count": 52,
   "metadata": {
    "collapsed": true
   },
   "outputs": [],
   "source": [
    "with h5py.File(outfolder + 'mask.h5', 'w') as f:\n",
    "    f['detector_distance'] = [distance]\n",
    "    f['image_center'] = center\n",
    "    f['lambda'] = [wavelength]\n",
    "    f['mask'] = np.alltrue(mask, axis=0)\n",
    "    f['num_dimensions'] = [2]\n",
    "    f['phased'] = [0]\n",
    "    f['pixel_size'] = [pixelsize]\n",
    "    f['real'] = np.alltrue(mask, axis=0)\n",
    "    f['scaled'] = [0.]\n",
    "    f['shifted'] = [0.]\n",
    "    f['version'] = [2]"
   ]
  }
 ],
 "metadata": {
  "kernelspec": {
   "display_name": "Python 2",
   "language": "python",
   "name": "python2"
  },
  "language_info": {
   "codemirror_mode": {
    "name": "ipython",
    "version": 2
   },
   "file_extension": ".py",
   "mimetype": "text/x-python",
   "name": "python",
   "nbconvert_exporter": "python",
   "pygments_lexer": "ipython2",
   "version": "2.7.10"
  }
 },
 "nbformat": 4,
 "nbformat_minor": 1
}
