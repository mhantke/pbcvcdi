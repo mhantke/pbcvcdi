{
 "cells": [
  {
   "cell_type": "code",
   "execution_count": null,
   "metadata": {
    "collapsed": false
   },
   "outputs": [],
   "source": [
    "import spimage\n",
    "import h5py\n",
    "import numpy as np\n",
    "import matplotlib.pyplot as plt\n",
    "import matplotlib.colors as colors"
   ]
  },
  {
   "cell_type": "markdown",
   "metadata": {},
   "source": [
    "# Load diffraction pattern"
   ]
  },
  {
   "cell_type": "code",
   "execution_count": null,
   "metadata": {
    "collapsed": false
   },
   "outputs": [],
   "source": [
    "filename = \"/Users/benedikt/data/LCLS/amol3416/pbcv/phasing/r0098/r0098_004_0.h5\"\n",
    "img = spimage.sp_image_read(filename,0)\n",
    "I = abs(img.image)\n",
    "M = np.array(img.mask,dtype=\"bool\")\n",
    "spimage.sp_image_free(img)"
   ]
  },
  {
   "cell_type": "markdown",
   "metadata": {},
   "source": [
    "# Phasing"
   ]
  },
  {
   "cell_type": "code",
   "execution_count": null,
   "metadata": {
    "collapsed": false
   },
   "outputs": [],
   "source": [
    "# Phasing parameters\n",
    "niter_raar = 1000\n",
    "niter_hio  = 0\n",
    "niter_er   = 1000\n",
    "niter_total = niter_raar + niter_hio + niter_er\n",
    "beta = 0.9\n",
    "support_radius = 11.0\n",
    "support_area   = ((support_radius**2)*np.pi) / (256.**2)\n",
    "\n",
    "# Run phasing\n",
    "R = spimage.Reconstructor(use_gpu=True)\n",
    "R.set_intensities(I)\n",
    "R.set_mask(M)\n",
    "R.set_number_of_iterations(niter_total)\n",
    "R.set_number_of_outputs_images(5)\n",
    "R.set_number_of_outputs_scores(200)\n",
    "R.set_initial_support(radius=support_radius)\n",
    "#R.append_support_algorithm(\"static\", number_of_iterations=niter_hio)\n",
    "#R.append_support_algorithm(\"threshold\", center_image=True, update_period=20,\n",
    "#                       blur_init=5, blur_final=1, threshold_init=0.3, threshold_final=0.15)\n",
    "R.append_support_algorithm(\"area\", center_image=True, update_period=20, number_of_iterations=niter_raar+niter_er,\n",
    "                       blur_init=3, blur_final=1, area_init=support_area, area_final=0.0048)\n",
    "#R.append_support_algorithm(\"static\",  number_of_iterations=niter_er)\n",
    "R.append_phasing_algorithm(\"raar\",beta_init=beta, beta_final=beta, number_of_iterations=niter_raar, \n",
    "                           constraints=['enforce_real', 'enforce_positivity'])\n",
    "#R.append_phasing_algorithm(\"hio\", beta_init=beta, beta_final=beta, number_of_iterations=niter_hio,\n",
    "#                           constraints=['enforce_real', 'enforce_positivity'])\n",
    "R.append_phasing_algorithm(\"er\",  number_of_iterations=niter_er,\n",
    "                           constraints=['enforce_real', 'enforce_positivity'])\n",
    "output = R.reconstruct()\n",
    "R.clear()"
   ]
  },
  {
   "cell_type": "markdown",
   "metadata": {},
   "source": [
    "# Iterations"
   ]
  },
  {
   "cell_type": "code",
   "execution_count": null,
   "metadata": {
    "collapsed": false
   },
   "outputs": [],
   "source": [
    "fig, axes = plt.subplots(nrows=3, ncols=5)\n",
    "c = 100\n",
    "for i in range(5):\n",
    "    axes[0,i].set_title(output['iteration_index_images'][i])\n",
    "    axes[0,i].imshow(np.abs(output['real_space'][i])[c:-c,c:-c], cmap='viridis', interpolation='none')\n",
    "    axes[1,i].imshow(output['support'][i][c:-c,c:-c], cmap='gray', interpolation='none')\n",
    "    axes[2,i].imshow(np.abs(output['fourier_space'][i])**2, norm=colors.LogNorm(vmin=0.1, vmax=1e5), \n",
    "                     cmap='inferno', interpolation='none')\n",
    "    [axes[j,i].axis('off') for j in range(3)]\n",
    "plt.subplots_adjust(wspace=0, hspace=-0.5)\n",
    "plt.show()"
   ]
  },
  {
   "cell_type": "markdown",
   "metadata": {},
   "source": [
    "# Errors and support size"
   ]
  },
  {
   "cell_type": "code",
   "execution_count": null,
   "metadata": {
    "collapsed": false
   },
   "outputs": [],
   "source": [
    "plt.figure()\n",
    "plt.title('Final errors: %.5f / %.5f' %(output['fourier_error'][-1], output['real_error'][-1]))\n",
    "plt.plot(output['iteration_index_scores'][1:], output['fourier_error'][1:], label='Fourier error')\n",
    "plt.plot(output['iteration_index_scores'][1:], output['real_error'][1:], label='Real error')\n",
    "plt.semilogy()\n",
    "plt.xlabel('Nr. of iterations')\n",
    "plt.ylabel('Error metric')\n",
    "plt.legend(frameon=False, loc=3)\n",
    "plt.show()"
   ]
  },
  {
   "cell_type": "code",
   "execution_count": null,
   "metadata": {
    "collapsed": false
   },
   "outputs": [],
   "source": [
    "plt.figure()\n",
    "plt.title('Final support size: %.5f' %output['support_size'][-1])\n",
    "plt.plot(output['iteration_index_scores'], output['support_size'])\n",
    "plt.xlabel('Nr. of iterations')\n",
    "plt.ylabel('Support size')\n",
    "plt.show()\n"
   ]
  },
  {
   "cell_type": "code",
   "execution_count": null,
   "metadata": {
    "collapsed": false
   },
   "outputs": [],
   "source": [
    "print \"Final errors: %.5f / %.5f / %.5f\" %(output['fourier_error'][-1], output['real_error'][-1], output['support_size'][-1])"
   ]
  },
  {
   "cell_type": "markdown",
   "metadata": {},
   "source": [
    "# Recovered diffraction intensities"
   ]
  },
  {
   "cell_type": "code",
   "execution_count": null,
   "metadata": {
    "collapsed": false
   },
   "outputs": [],
   "source": [
    "fig = plt.figure(figsize=(10,3.6))\n",
    "axl = fig.add_subplot(121)\n",
    "axr = fig.add_subplot(122)\n",
    "axl.set_xticks([])\n",
    "axl.set_yticks([])\n",
    "axr.set_xticks([])\n",
    "axr.set_yticks([])\n",
    "axl.set_title('Diffraction pattern')\n",
    "axr.set_title('Recovered intensities')\n",
    "tmp = np.abs(I)*M\n",
    "tmp[tmp<0.1] = 0.1\n",
    "im = axl.imshow(tmp, norm=colors.LogNorm(vmin=0.1, vmax=1e5), cmap='inferno', interpolation='none')\n",
    "axr.imshow(np.abs(output['fourier_space'][-1])**2, norm=colors.LogNorm(vmin=0.1, vmax=1e5), cmap='inferno', interpolation='none')\n",
    "cb = fig.colorbar(im)\n",
    "cb.ax.set_ylabel('Nr. of photons / px')\n",
    "plt.show()"
   ]
  },
  {
   "cell_type": "markdown",
   "metadata": {},
   "source": [
    "# Support and reconstruction"
   ]
  },
  {
   "cell_type": "code",
   "execution_count": null,
   "metadata": {
    "collapsed": false
   },
   "outputs": [],
   "source": [
    "fig = plt.figure(figsize=(10,3.6))\n",
    "axl = fig.add_subplot(121)\n",
    "axr = fig.add_subplot(122)\n",
    "axl.set_xticks([])\n",
    "axl.set_yticks([])\n",
    "axr.set_xticks([])\n",
    "axr.set_yticks([])\n",
    "axl.set_title('Support')\n",
    "axr.set_title('Reconstruction')\n",
    "c = 110\n",
    "im = axr.imshow(np.abs(output['real_space'][-1])[c:-c,c:-c], cmap='viridis', interpolation='none')\n",
    "dx = 7.7 #[nm / px]\n",
    "axr.add_patch(plt.Rectangle((2,32),100./7.7,1.2, facecolor='w', lw=0))\n",
    "axr.text(8.2,31.5, r'100 nm', color='w', weight='bold', fontsize=10, ha='center', va='bottom')\n",
    "axl.imshow(output['support'][-1][c:-c,c:-c], cmap='gray', interpolation='none')\n",
    "cb = fig.colorbar(im)\n",
    "cb.ax.set_ylabel('Electron density [arb. units]')\n",
    "plt.show()"
   ]
  },
  {
   "cell_type": "code",
   "execution_count": null,
   "metadata": {
    "collapsed": false
   },
   "outputs": [],
   "source": [
    "fig = plt.figure(figsize=(10,3.6))\n",
    "axl = fig.add_subplot(121)\n",
    "axr = fig.add_subplot(122)\n",
    "axl.set_xticks([])\n",
    "axl.set_yticks([])\n",
    "axr.set_xticks([])\n",
    "axr.set_yticks([])\n",
    "axl.set_title('Support')\n",
    "axr.set_title('Reconstruction')\n",
    "c = 110\n",
    "s = output['support'][-1][c:-c,c:-c]\n",
    "im = axr.imshow(np.angle(output['real_space'][-1])[c:-c,c:-c], cmap='gnuplot', interpolation='none')\n",
    "dx = 7.7 #[nm / px]\n",
    "axr.add_patch(plt.Rectangle((2,32),100./7.7,1.2, facecolor='w', lw=0))\n",
    "axr.text(8.2,31.5, r'100 nm', color='w', weight='bold', fontsize=10, ha='center', va='bottom')\n",
    "axl.imshow(s, cmap='gray', interpolation='none')\n",
    "cb = fig.colorbar(im)\n",
    "cb.ax.set_ylabel('Electron density [arb. units]')\n",
    "plt.show()"
   ]
  }
 ],
 "metadata": {
  "kernelspec": {
   "display_name": "Python 2",
   "language": "python",
   "name": "python2"
  },
  "language_info": {
   "codemirror_mode": {
    "name": "ipython",
    "version": 2
   },
   "file_extension": ".py",
   "mimetype": "text/x-python",
   "name": "python",
   "nbconvert_exporter": "python",
   "pygments_lexer": "ipython2",
   "version": "2.7.10"
  }
 },
 "nbformat": 4,
 "nbformat_minor": 1
}
