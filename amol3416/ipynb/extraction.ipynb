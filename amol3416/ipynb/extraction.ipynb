{
 "cells": [
  {
   "cell_type": "code",
   "execution_count": null,
   "metadata": {
    "collapsed": false
   },
   "outputs": [],
   "source": [
    "import h5py, sys\n",
    "import spimage\n",
    "import numpy as np\n",
    "import scipy as sp\n",
    "import matplotlib.pyplot as plt\n",
    "import matplotlib.colors as colors"
   ]
  },
  {
   "cell_type": "markdown",
   "metadata": {},
   "source": [
    "# Data access"
   ]
  },
  {
   "cell_type": "code",
   "execution_count": null,
   "metadata": {
    "collapsed": true
   },
   "outputs": [],
   "source": [
    "runnr = 98\n",
    "base_path = '/Users/benedikt/data/LCLS/amol3416/pbcv/'\n",
    "filename_ol1 = base_path + 'amol3416_r%04d_ol1.h5' %runnr\n",
    "filename_ol3 = base_path + 'amol3416_r%04d_ol3.h5' %runnr\n",
    "outfolder = base_path + 'phasing/r%04d' %runnr "
   ]
  },
  {
   "cell_type": "markdown",
   "metadata": {},
   "source": [
    "# Extract 10 strongest example images"
   ]
  },
  {
   "cell_type": "code",
   "execution_count": null,
   "metadata": {
    "collapsed": false
   },
   "outputs": [],
   "source": [
    "# Load 10 strongest hits from ouput level 3\n",
    "with h5py.File(filename_ol3, 'r') as f:    \n",
    "    hitscore = f['entry_1/result_1/hitscore_litpixel'][:]\n",
    "    selection = np.sort(np.argsort(hitscore)[-10:])\n",
    "    data = f['entry_1/data_1/data'][selection,:,:].astype(np.float64)\n",
    "    gain = f['entry_1/detector_1/gain'][:][selection]\n",
    "    mask_init = ~f['entry_1/detector_1/mask'][:].astype(np.bool)\n",
    "    timestamp = f['entry_1/event/timestamp'][:][selection]"
   ]
  },
  {
   "cell_type": "code",
   "execution_count": null,
   "metadata": {
    "collapsed": false
   },
   "outputs": [],
   "source": [
    "# Parameters\n",
    "downsampling = 4\n",
    "saturation_level = 9000\n",
    "\n",
    "# Loop through the 10 images\n",
    "for i in range(10):\n",
    "    \n",
    "    # Mask out saturated pixels\n",
    "    mask_saturated = (data[i] < saturation_level)\n",
    "    mask = mask_init & mask_saturated\n",
    "    \n",
    "    # Set background to zero\n",
    "    intensities = data[i]\n",
    "    intensities[intensities <= 0.5*gain[i]] = 0.\n",
    "    \n",
    "    # Find the center\n",
    "    x,y = spimage.find_center(intensities,mask, method='blurred', x0=0, y0=0, \n",
    "                              dmax=40, threshold=0.5*gain[i], blur_radius=4)\n",
    "    \n",
    "    # Crop around the center to 1024x1024\n",
    "    centery = int(intensities.shape[0]//2+y + 50)\n",
    "    centerx = int(intensities.shape[1]//2+x + 50)\n",
    "    intensities_padded = np.pad(intensities, 50, 'constant')\n",
    "    intensities_cropped = intensities_padded[centery-512:centery+512, centerx-512:centerx+512]\n",
    "    mask_padded = np.pad(mask, 50, 'constant')\n",
    "    mask_cropped = mask_padded[centery-512:centery+512, centerx-512:centerx+512]\n",
    "\n",
    "    # Gain calibration and cropping to 1024 x 1024\n",
    "    intensities_c = intensities_cropped / gain[i]\n",
    "    mask_c = mask_cropped\n",
    "    \n",
    "    # Downsampling\n",
    "    intensities_ds, mask_ds = spimage.binImage(intensities_c, downsampling, msk=mask_c, output_binned_mask=True)\n",
    "\n",
    "    # Photon counting\n",
    "    intensities_cnt = np.round(intensities_ds)\n",
    "    mask_cnt = mask_ds.astype(np.bool)\n",
    "            \n",
    "    # Write to spimage-type HDF5 file\n",
    "    ny,nx = intensities_cnt.shape\n",
    "    img = spimage.sp_image_alloc(nx,ny,1)\n",
    "    img.phased = 0\n",
    "    img.detector.image_center[:] =[spimage.center_to_pos(y,nx), spimage.center_to_pos(x,ny),0]\n",
    "    img.image[:,:] = intensities_cnt\n",
    "    img.mask[:,:]  = mask_cnt\n",
    "    spimage.sp_image_write(img,\"%s/r%04d_%03i_0.h5\" % (outfolder,runnr, i),0)"
   ]
  }
 ],
 "metadata": {
  "kernelspec": {
   "display_name": "Python 2",
   "language": "python",
   "name": "python2"
  },
  "language_info": {
   "codemirror_mode": {
    "name": "ipython",
    "version": 2
   },
   "file_extension": ".py",
   "mimetype": "text/x-python",
   "name": "python",
   "nbconvert_exporter": "python",
   "pygments_lexer": "ipython2",
   "version": "2.7.10"
  }
 },
 "nbformat": 4,
 "nbformat_minor": 1
}
