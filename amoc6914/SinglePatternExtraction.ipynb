{
 "metadata": {
  "name": "",
  "signature": "sha256:a1f9e2b1d5b201934e63a84622e796177facf8d81f5d2781c1612c7b03a04df3"
 },
 "nbformat": 3,
 "nbformat_minor": 0,
 "worksheets": [
  {
   "cells": [
    {
     "cell_type": "code",
     "collapsed": false,
     "input": [
      "%pylab inline"
     ],
     "language": "python",
     "metadata": {},
     "outputs": [
      {
       "output_type": "stream",
       "stream": "stdout",
       "text": [
        "Populating the interactive namespace from numpy and matplotlib\n"
       ]
      }
     ],
     "prompt_number": 1
    },
    {
     "cell_type": "code",
     "collapsed": false,
     "input": [
      "import h5py\n",
      "import spimage"
     ],
     "language": "python",
     "metadata": {},
     "outputs": [],
     "prompt_number": 2
    },
    {
     "cell_type": "code",
     "collapsed": false,
     "input": [
      "PIXEL_IS_PERFECT = 0\n",
      "PIXEL_IS_INVALID = 1\n",
      "PIXEL_IS_SATURATED = 2\n",
      "PIXEL_IS_HOT = 4\n",
      "PIXEL_IS_DEAD = 8\n",
      "PIXEL_IS_SHADOWED = 16\n",
      "PIXEL_IS_IN_PEAKMASK = 32\n",
      "PIXEL_IS_TO_BE_IGNORED = 64\n",
      "PIXEL_IS_BAD = 128\n",
      "PIXEL_IS_OUT_OF_RESOLUTION_LIMITS = 256\n",
      "PIXEL_IS_MISSING = 512\n",
      "PIXEL_IS_NOISY = 1024\n",
      "PIXEL_IS_ARTIFACT_CORRECTED = 2048\n",
      "PIXEL_FAILED_ARTIFACT_CORRECTION = 4096\n",
      "PIXEL_IS_PEAK_FOR_HITFINDER = 8192\n",
      "PIXEL_IS_PHOTON_BACKGROUND_CORRECTED = 16384\n",
      "PIXEL_MASK_OUT = PIXEL_IS_INVALID | PIXEL_IS_SATURATED | PIXEL_IS_HOT | PIXEL_IS_DEAD | PIXEL_IS_SHADOWED |  PIXEL_IS_TO_BE_IGNORED | PIXEL_IS_BAD | PIXEL_IS_MISSING | PIXEL_FAILED_ARTIFACT_CORRECTION"
     ],
     "language": "python",
     "metadata": {},
     "outputs": [],
     "prompt_number": 3
    },
    {
     "cell_type": "code",
     "collapsed": false,
     "input": [
      "def fill_centrosymmetric(img,msk,fill_pix,cx,cy):\n",
      "    img_new = img.copy()\n",
      "    msk_new = msk.copy()\n",
      "    X,Y = numpy.meshgrid(numpy.arange(img.shape[1]),numpy.arange(img.shape[0]))\n",
      "    X = X[fill_pix]\n",
      "    Y = Y[fill_pix]\n",
      "    for x,y in zip(X,Y):\n",
      "#        cx_pos = (img.shape[1]-1)/2.\n",
      " #       cy_pos = (img.shape[0]-1)/2.\n",
      "        cx_pos = (img.shape[1]-1)/2. + cx\n",
      "        cy_pos = (img.shape[0]-1)/2. + cy\n",
      "        x2 = int(round(2*cx_pos - x))\n",
      "        y2 = int(round(2*cy_pos - y))\n",
      "        if x2 >= img.shape[1] or y2 >= img.shape[0] or x2 < 0 or y2 < 0:\n",
      "            pass\n",
      "        else:\n",
      "            img_new[y,x] = img[y2,x2]\n",
      "            msk_new[y,x] = msk[y2,x2]\n",
      "    return img_new,msk_new"
     ],
     "language": "python",
     "metadata": {},
     "outputs": [],
     "prompt_number": 4
    },
    {
     "cell_type": "code",
     "collapsed": false,
     "input": [
      "filename = \"/Volumes/2TB_01/AMO_data/r0184_20150210_1158/amoc6914-r0184.cxi\""
     ],
     "language": "python",
     "metadata": {},
     "outputs": [],
     "prompt_number": 5
    },
    {
     "cell_type": "code",
     "collapsed": false,
     "input": [
      "with h5py.File(filename,\"r\") as f:\n",
      "    tags = array(f[\"/entry_1/image_2/tags\"])\n",
      "#    tags_names = f[\"/entry_1/image_2/tags\"].attrs[\"headings\"]\n",
      "    Is = []\n",
      "    Ms = []\n",
      "    Cxs = []\n",
      "    Cys = []\n",
      "    print tags.shape\n",
      "    i_interesting = arange(tags.shape[1])[tags[1,:] == 1]\n",
      "#    print i_interesting\n",
      "#    for i in range(3):\n",
      "    for i in range(len(i_interesting)):\n",
      "        k = i_interesting[i]\n",
      "        # Intensities\n",
      "        I = f[\"/entry_1/image_2/data\"][k,:,:]\n",
      "        Is.append(I)\n",
      "        imsave(\"%i.png\",log10(I))\n",
      "        # Masks\n",
      "        temp = ( array(f[\"/entry_1/image_2/mask\"][k,:,:],dtype=\"uint16\") & PIXEL_MASK_OUT ) == 0\n",
      "        Ms.append(temp)\n",
      "        # Centers\n",
      "        Cxs.append(f[\"/entry_1/image_2/model/offCenterX\"][k])\n",
      "        Cys.append(f[\"/entry_1/image_2/model/offCenterY\"][k])\n",
      "#        print Cxs\""
     ],
     "language": "python",
     "metadata": {},
     "outputs": [
      {
       "output_type": "stream",
       "stream": "stdout",
       "text": [
        "(2, 14898)\n"
       ]
      }
     ],
     "prompt_number": 14
    },
    {
     "cell_type": "code",
     "collapsed": false,
     "input": [
      "M_new = imread(\"/Volumes/2TB_01/AMO_data/new_mask.png\")"
     ],
     "language": "python",
     "metadata": {},
     "outputs": [],
     "prompt_number": 15
    },
    {
     "cell_type": "code",
     "collapsed": false,
     "input": [
      "out_folder = \"/Volumes/2TB_01/AMO_data/extraction_data/r0184_extraction_data\"\n",
      "N_new = 240\n",
      "for i,I0,M0,cx,cy in zip(i_interesting,Is,Ms,Cxs,Cys):\n",
      "    I = spimage.crop(I0,N_new)\n",
      "    M = spimage.crop(M0,N_new)\n",
      "\n",
      "    img = spimage.sp_image_alloc(I.shape[0],I.shape[1],1)\n",
      "    I[I<0] = 0\n",
      "    img.phased = 0\n",
      "    img.detector.image_center[:] =[spimage.center_to_pos(cy,I.shape[0]),\n",
      "                                                             spimage.center_to_pos(cx,I.shape[1]),\n",
      "                                                             0]\n",
      "    img.image[:,:] = I[:,:]\n",
      "    img.mask[:,:] = M[:,:]\n",
      "\n",
      "    spimage.sp_image_write(img,\"%s/%i_0.h5\" % (out_folder,i),0)\n",
      "\n",
      "    img.mask[:,:] *= spimage.crop(M_new,N_new)[:,:]\n",
      "\n",
      "    spimage.sp_image_write(img,\"%s/%i_1.h5\" % (out_folder,i),0)\n",
      "   \n",
      "    MaskFill = zeros(M.shape,dtype=\"bool\")\n",
      "    MaskFill[128:,:128] = 1\n",
      "#    print cx\n",
      "    Itmp,Mtmp = fill_centrosymmetric(I,M,MaskFill,cx,cy)\n",
      "    img.image[:,:] = Itmp[:,:]\n",
      "    img.mask[:,:] = Mtmp[:,:]\n",
      "\n",
      "    spimage.sp_image_write(img,\"%s/%i_2.h5\" % (out_folder,i),0)"
     ],
     "language": "python",
     "metadata": {},
     "outputs": [],
     "prompt_number": 16
    },
    {
     "cell_type": "code",
     "collapsed": false,
     "input": [],
     "language": "python",
     "metadata": {},
     "outputs": []
    }
   ],
   "metadata": {}
  }
 ]
}